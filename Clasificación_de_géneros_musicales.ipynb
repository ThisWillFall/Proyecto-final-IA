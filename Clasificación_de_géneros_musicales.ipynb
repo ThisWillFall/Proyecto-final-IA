{
  "nbformat": 4,
  "nbformat_minor": 0,
  "metadata": {
    "colab": {
      "name": "Clasificación de géneros musicales.ipynb",
      "provenance": [],
      "collapsed_sections": [],
      "include_colab_link": true
    },
    "kernelspec": {
      "name": "python3",
      "display_name": "Python 3"
    },
    "language_info": {
      "name": "python"
    }
  },
  "cells": [
    {
      "cell_type": "markdown",
      "metadata": {
        "id": "view-in-github",
        "colab_type": "text"
      },
      "source": [
        "<a href=\"https://colab.research.google.com/github/ThisWillFall/Proyecto-final-IA/blob/main/Clasificaci%C3%B3n_de_g%C3%A9neros_musicales.ipynb\" target=\"_parent\"><img src=\"https://colab.research.google.com/assets/colab-badge.svg\" alt=\"Open In Colab\"/></a>"
      ]
    },
    {
      "cell_type": "markdown",
      "source": [
        "## 1. Limpieza de datos"
      ],
      "metadata": {
        "id": "T_I5WGDk0PfM"
      }
    },
    {
      "cell_type": "code",
      "source": [
        "import pandas as pd\n",
        "import numpy as np\n",
        "\n",
        "Data=pd.read_csv(\"train.csv\",header=0,sep=\",\")\n",
        "Data=Data.drop(['Artist Name','Track Name','Popularity','key','mode','tempo','duration_in min/ms','time_signature','loudness','liveness'],axis=1) \n",
        "Data=Data.dropna(axis=0,how='any')\n",
        "\n",
        "Y=Data['Class'].values\n",
        "X=Data[['danceability','energy','speechiness','acousticness','instrumentalness','valence']].values"
      ],
      "metadata": {
        "id": "WsLqrKD30dw1"
      },
      "execution_count": 1,
      "outputs": []
    },
    {
      "cell_type": "markdown",
      "source": [
        "## 2. División del conjunto y normalización"
      ],
      "metadata": {
        "id": "cYYuwuowNaq0"
      }
    },
    {
      "cell_type": "code",
      "source": [
        "from sklearn.model_selection import train_test_split\n",
        "from sklearn.preprocessing import StandardScaler\n",
        "\n",
        "X_train, X_test, y_train, y_test = train_test_split(X, Y, test_size=0.2,random_state=0)\n",
        "scaler = StandardScaler()\n",
        "scaler.fit(X_train)\n",
        "X_train = scaler.transform(X_train)\n",
        "X_test = scaler.transform(X_test)\n"
      ],
      "metadata": {
        "id": "FiLAxcvTNeYK"
      },
      "execution_count": 2,
      "outputs": []
    },
    {
      "cell_type": "markdown",
      "source": [
        "## 3. PCA"
      ],
      "metadata": {
        "id": "N0ovMMp_lyz9"
      }
    },
    {
      "cell_type": "code",
      "source": [
        "from sklearn import decomposition\n",
        "from sklearn.decomposition import PCA, KernelPCA\n",
        "for n in [1,2,3,4,5]:\n",
        "  pca = decomposition.PCA(n_components=n,whiten=True,svd_solver='arpack')\n",
        "  pca.fit(X_train)\n",
        "  Xt = pca.transform(X_train)\n",
        "  print(\"Dimensiones:\",n)\n",
        "  print(\"Información:\",sum(pca.explained_variance_ratio_))"
      ],
      "metadata": {
        "colab": {
          "base_uri": "https://localhost:8080/"
        },
        "id": "LCbe2Ozsl2EN",
        "outputId": "3dd316e4-4015-4629-97e0-55659bdf3dcb"
      },
      "execution_count": 36,
      "outputs": [
        {
          "output_type": "stream",
          "name": "stdout",
          "text": [
            "Dimensiones: 1\n",
            "Información: 0.33600601342264\n",
            "Dimensiones: 2\n",
            "Información: 0.5813924285053956\n",
            "Dimensiones: 3\n",
            "Información: 0.7441033697319595\n",
            "Dimensiones: 4\n",
            "Información: 0.8798034416466224\n",
            "Dimensiones: 5\n",
            "Información: 0.9653891673991161\n"
          ]
        }
      ]
    },
    {
      "cell_type": "markdown",
      "source": [
        "## 3. Grid Search para implementar clasificador de Random Forest"
      ],
      "metadata": {
        "id": "fd7w1963STHE"
      }
    },
    {
      "cell_type": "code",
      "source": [
        "from sklearn.model_selection import GridSearchCV\n",
        "from sklearn.ensemble import RandomForestClassifier\n",
        "from sklearn.model_selection import KFold\n",
        "\n",
        "param= {'n_estimators':[10,100,1000,10000],'criterion':['gini','entropy']}\n",
        "grid = GridSearchCV(RandomForestClassifier(), param,cv=KFold(n_splits=2))\n",
        "grid.fit(X_train, y_train)\n",
        "\n",
        "print('Los mejores parametros fueron:',grid.best_params_)\n",
        "print(grid.best_estimator_)"
      ],
      "metadata": {
        "colab": {
          "base_uri": "https://localhost:8080/"
        },
        "id": "5hMpTiB4StdI",
        "outputId": "2bfb8355-a221-4cf8-e727-5a3b79a64761"
      },
      "execution_count": 3,
      "outputs": [
        {
          "output_type": "stream",
          "name": "stdout",
          "text": [
            "Los mejores parametros fueron: {'criterion': 'gini', 'n_estimators': 10000}\n",
            "RandomForestClassifier(n_estimators=10000)\n"
          ]
        }
      ]
    },
    {
      "cell_type": "markdown",
      "source": [
        "## 4. Reentrenamiento con el mejor método de hiperparametros"
      ],
      "metadata": {
        "id": "9jRkcwdGh6EZ"
      }
    },
    {
      "cell_type": "code",
      "source": [
        "from sklearn.metrics import matthews_corrcoef\n",
        "from sklearn.metrics import roc_auc_score\n",
        "from sklearn.metrics import f1_score\n",
        "from sklearn.ensemble import RandomForestClassifier\n",
        "from sklearn.preprocessing import label_binarize\n",
        "\n",
        "rfc = RandomForestClassifier(criterion='gini',n_estimators=10000)\n",
        "rfc.fit(X_train, y_train)\n",
        "y_test_predicted = rfc.predict(X_test)\n",
        "MCC = matthews_corrcoef(y_test, y_test_predicted)\n",
        "F1=f1_score(y_test, y_test_predicted, average='macro')\n",
        "AUC=roc_auc_score(label_binarize(y_test,classes=[0,1,2,3,4,5,6,7,8,9,10]),label_binarize(y_test_predicted,classes=[0,1,2,3,4,5,6,7,8,9,10]),multi_class='ovr')\n",
        "print(\"El MCC es de \",MCC)\n",
        "print(\"El AUC-ROC es de \",AUC)\n",
        "print(\"El F1 es de \",F1)"
      ],
      "metadata": {
        "colab": {
          "base_uri": "https://localhost:8080/"
        },
        "id": "WFfrY18fh9R_",
        "outputId": "f403fbd4-1e09-4812-f09d-4ea930d2099c"
      },
      "execution_count": 4,
      "outputs": [
        {
          "output_type": "stream",
          "name": "stdout",
          "text": [
            "El MCC es de  0.2632206695446134\n",
            "El AUC-ROC es de  0.6404856601051535\n",
            "El F1 es de  0.3522986276632452\n"
          ]
        }
      ]
    },
    {
      "cell_type": "markdown",
      "source": [
        "## 5. Grid Search para implementar regresión logistica"
      ],
      "metadata": {
        "id": "moPv36Toim3J"
      }
    },
    {
      "cell_type": "code",
      "source": [
        "from sklearn.model_selection import GridSearchCV\n",
        "from sklearn.linear_model import LogisticRegression\n",
        "from sklearn.model_selection import KFold\n",
        "\n",
        "param= {'C':[1/1000,1/100,1/10,1],'l1_ratio':[0,0.1,0.2,0.3,0.4,0.5,0.6,0.7,0.8,0.9,1]}\n",
        "grid = GridSearchCV(LogisticRegression(solver='saga', penalty='elasticnet',max_iter=1000), param,cv=KFold(n_splits=2))\n",
        "grid.fit(X_train, y_train)\n",
        "\n",
        "print('Los mejores parametros fueron:',grid.best_params_)\n",
        "print(grid.best_estimator_)"
      ],
      "metadata": {
        "colab": {
          "base_uri": "https://localhost:8080/"
        },
        "id": "cDvhcs7pI3gP",
        "outputId": "259c172e-6b73-4ea2-a75e-c899120e8169"
      },
      "execution_count": 10,
      "outputs": [
        {
          "output_type": "stream",
          "name": "stdout",
          "text": [
            "Los mejores parametros fueron: {'C': 0.1, 'l1_ratio': 0.6}\n",
            "LogisticRegression(C=0.1, l1_ratio=0.6, max_iter=1000, penalty='elasticnet',\n",
            "                   solver='saga')\n"
          ]
        }
      ]
    },
    {
      "cell_type": "markdown",
      "source": [
        "## 6. Reentrenamiento con el mejor método de hiperparametros"
      ],
      "metadata": {
        "id": "1R_JDi_KWVRn"
      }
    },
    {
      "cell_type": "code",
      "source": [
        "from sklearn.metrics import matthews_corrcoef\n",
        "from sklearn.metrics import roc_auc_score\n",
        "from sklearn.metrics import f1_score\n",
        "from sklearn.linear_model import LogisticRegression\n",
        "from sklearn.preprocessing import label_binarize\n",
        "from sklearn.metrics import confusion_matrix\n",
        "\n",
        "lr = LogisticRegression(C=0.1, l1_ratio=0.6, max_iter=1000, penalty='elasticnet',\n",
        "                   solver='saga')\n",
        "lr.fit(X_train, y_train)\n",
        "y_test_predicted = lr.predict(X_test)\n",
        "MCC = matthews_corrcoef(y_test, y_test_predicted)\n",
        "F1=f1_score(y_test, y_test_predicted, average='macro');\n",
        "AUC=roc_auc_score(label_binarize(y_test,classes=[0,1,2,3,4,5,6,7,8,9,10]),label_binarize(y_test_predicted,classes=[0,1,2,3,4,5,6,7,8,9,10]),multi_class='ovr')\n",
        "print(\"El MCC es de \",MCC)\n",
        "print(\"El AUC-ROC es de \",AUC)\n",
        "print(\"El F1 es de \",F1)\n"
      ],
      "metadata": {
        "colab": {
          "base_uri": "https://localhost:8080/"
        },
        "id": "DPMzWhRrWbbD",
        "outputId": "2f8450d0-2bdc-4c54-e8d4-5b2c7cc6ce1a"
      },
      "execution_count": 14,
      "outputs": [
        {
          "output_type": "stream",
          "name": "stdout",
          "text": [
            "El MCC es de  0.28540191757750466\n",
            "El AUC-ROC es de  0.6415128303934824\n",
            "El F1 es de  0.34760484805804776\n"
          ]
        }
      ]
    }
  ]
}